{
 "cells": [
  {
   "cell_type": "code",
   "execution_count": 1,
   "id": "54ce9a95-e595-41cc-b8f1-d548396e482b",
   "metadata": {},
   "outputs": [],
   "source": [
    "import os\n",
    "os.environ[\"GOOGLE_APPLICATION_CREDENTIALS\"] = \"/home/jupyter/strategy_and_transformation/tiger_mlops/venkat/access/dev-mlops-exp-batch-vertexai-dw-analytics-d01.json\""
   ]
  },
  {
   "cell_type": "code",
   "execution_count": 2,
   "id": "9d60de80-2804-413b-afc4-a6fe24475186",
   "metadata": {},
   "outputs": [],
   "source": [
    "from kfp.v2 import dsl, compiler\n",
    "import kfp.components as comp\n",
    "\n",
    "import tensorflow_data_validation as tfdv\n",
    "import google.cloud.aiplatform as aip\n",
    "from google.cloud import storage\n",
    "from datetime import datetime"
   ]
  },
  {
   "cell_type": "code",
   "execution_count": 3,
   "id": "7bf11241-c10a-4ac0-94da-79b4bb330a13",
   "metadata": {},
   "outputs": [],
   "source": [
    "PROJECT_ID = 'dw-analytics-d01'\n",
    "PIPELINE_ROOT = \"gs://dev_dw_npii_adhoc/sat_analytics/dataproc_testing/tfdv/\""
   ]
  },
  {
   "cell_type": "code",
   "execution_count": 4,
   "id": "c9d98031-3f20-4a79-bbbb-b95a3f41e48d",
   "metadata": {},
   "outputs": [
    {
     "name": "stderr",
     "output_type": "stream",
     "text": [
      "/opt/conda/lib/python3.7/site-packages/kfp/v2/compiler/compiler.py:1293: FutureWarning: APIs imported from the v1 namespace (e.g. kfp.dsl, kfp.components, etc) will not be supported by the v2 compiler since v2.0.0\n",
      "  category=FutureWarning,\n"
     ]
    }
   ],
   "source": [
    "tfdv_val = comp.load_component_from_file(\"tfdv_config.yaml\")\n",
    "    \n",
    "@dsl.pipeline(name='tfdv', description=\"pipeline\")\n",
    "def pipelinetask():\n",
    "    tfdv_val()\n",
    "compiler.Compiler().compile(pipeline_func=pipelinetask, package_path=\"tfdv1.json\")"
   ]
  },
  {
   "cell_type": "code",
   "execution_count": 5,
   "id": "ba418d0e-bbfa-48c6-83ac-ae53dab24b65",
   "metadata": {},
   "outputs": [
    {
     "name": "stdout",
     "output_type": "stream",
     "text": [
      "Creating PipelineJob\n",
      "PipelineJob created. Resource name: projects/134453458552/locations/us-central1/pipelineJobs/tfdv-20230208082414\n",
      "To use this PipelineJob in another session:\n",
      "pipeline_job = aiplatform.PipelineJob.get('projects/134453458552/locations/us-central1/pipelineJobs/tfdv-20230208082414')\n",
      "View Pipeline Job:\n",
      "https://console.cloud.google.com/vertex-ai/locations/us-central1/pipelines/runs/tfdv-20230208082414?project=134453458552\n",
      "PipelineJob projects/134453458552/locations/us-central1/pipelineJobs/tfdv-20230208082414 current state:\n",
      "PipelineState.PIPELINE_STATE_RUNNING\n",
      "PipelineJob projects/134453458552/locations/us-central1/pipelineJobs/tfdv-20230208082414 current state:\n",
      "PipelineState.PIPELINE_STATE_RUNNING\n",
      "PipelineJob projects/134453458552/locations/us-central1/pipelineJobs/tfdv-20230208082414 current state:\n",
      "PipelineState.PIPELINE_STATE_RUNNING\n",
      "PipelineJob run completed. Resource name: projects/134453458552/locations/us-central1/pipelineJobs/tfdv-20230208082414\n"
     ]
    }
   ],
   "source": [
    "TIMESTAMP = datetime.now().strftime(\"%Y%m%d%H%M%S\")\n",
    "DISPLAY_NAME = 'tfdv' + TIMESTAMP\n",
    "job = aip.PipelineJob(\n",
    "        display_name=DISPLAY_NAME,\n",
    "        template_path=\"tfdv1.json\",\n",
    "        pipeline_root=PIPELINE_ROOT,\n",
    "        enable_caching=False,\n",
    "    )\n",
    "job.run(service_account=\"dev-mlops-exp-batch-vertexai@dw-analytics-d01.iam.gserviceaccount.com\")"
   ]
  },
  {
   "cell_type": "code",
   "execution_count": null,
   "id": "5b6b9470-8b3e-4496-a7c0-0aefa1dea8b7",
   "metadata": {},
   "outputs": [],
   "source": []
  }
 ],
 "metadata": {
  "environment": {
   "name": "tf2-gpu.2-3.m81",
   "type": "gcloud",
   "uri": "gcr.io/deeplearning-platform-release/tf2-gpu.2-3:m81"
  },
  "kernelspec": {
   "display_name": "access_check1",
   "language": "python",
   "name": "access_check1"
  },
  "language_info": {
   "codemirror_mode": {
    "name": "ipython",
    "version": 3
   },
   "file_extension": ".py",
   "mimetype": "text/x-python",
   "name": "python",
   "nbconvert_exporter": "python",
   "pygments_lexer": "ipython3",
   "version": "3.7.10"
  }
 },
 "nbformat": 4,
 "nbformat_minor": 5
}
